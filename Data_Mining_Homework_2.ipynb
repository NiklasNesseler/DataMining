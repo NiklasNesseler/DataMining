{
  "nbformat": 4,
  "nbformat_minor": 0,
  "metadata": {
    "colab": {
      "provenance": []
    },
    "kernelspec": {
      "name": "python3",
      "display_name": "Python 3"
    },
    "language_info": {
      "name": "python"
    }
  },
  "cells": [
    {
      "cell_type": "code",
      "execution_count": null,
      "metadata": {
        "id": "Ca8AGpDilYN2"
      },
      "outputs": [],
      "source": [
        "import numpy as np"
      ]
    },
    {
      "cell_type": "code",
      "source": [
        "L = np.array([\n",
        "    [2, -1, -1, 0, 0, 0, 0, 0, 0],\n",
        "    [-1, 3, -1, 0, 0, 0, 0, -1, 0],\n",
        "    [-1, -1, 3, -1, 0, 0, 0, 0, 0],\n",
        "    [0, 0, -1, 3, -1, -1, 0, 0, 0],\n",
        "    [0, 0, 0, -1, 3, -1, -1, 0, 0],\n",
        "    [0, 0, 0, -1, -1, 2, 0, 0, 0],\n",
        "    [0, 0, 0, 0, -1, 0, 3, -1, -1],\n",
        "    [0, -1, 0, 0, 0, 0, -1, 3, -1],\n",
        "    [0, 0, 0, 0, 0, 0, -1, -1, 2]\n",
        "])"
      ],
      "metadata": {
        "id": "eEaVB2sulfmu"
      },
      "execution_count": null,
      "outputs": []
    },
    {
      "cell_type": "code",
      "source": [
        "eigenvalues, eigenvectors = np.linalg.eigh(L)"
      ],
      "metadata": {
        "id": "ihvaITY-lo4m"
      },
      "execution_count": null,
      "outputs": []
    },
    {
      "cell_type": "code",
      "source": [
        "np.set_printoptions(precision = 4)"
      ],
      "metadata": {
        "id": "SltWNqhpneLb"
      },
      "execution_count": null,
      "outputs": []
    },
    {
      "cell_type": "code",
      "source": [
        "second_smallest_eigenvalue = eigenvalues[1]\n",
        "second_eigenvector = eigenvectors[:, 1]\n",
        "\n",
        "print(\"Zweitkleinster Eigenwert: \", second_smallest_eigenvalue)\n",
        "print(\"Zugehöriger Eigenvektor: \", second_eigenvector)"
      ],
      "metadata": {
        "colab": {
          "base_uri": "https://localhost:8080/"
        },
        "id": "hg6ylwRjlzr4",
        "outputId": "2e1404ff-6a8e-4788-ce94-d7d807309bd1"
      },
      "execution_count": null,
      "outputs": [
        {
          "output_type": "stream",
          "name": "stdout",
          "text": [
            "Zweitkleinster Eigenwert:  0.6972243622680043\n",
            "Zugehöriger Eigenvektor:  [-0.0331 -0.1397  0.0966  0.3951  0.2885  0.5248 -0.2554 -0.3851 -0.4917]\n"
          ]
        }
      ]
    },
    {
      "cell_type": "code",
      "source": [
        "third_smallest_eigenvalue = eigenvalues[2]\n",
        "third_eigenvector = eigenvectors[:, 2]\n",
        "\n",
        "print(\"Drittkleinster Eigenwert: \", third_smallest_eigenvalue)\n",
        "print(\"Zugehöriger Eigenvektor: \", third_eigenvector)"
      ],
      "metadata": {
        "colab": {
          "base_uri": "https://localhost:8080/"
        },
        "id": "UX_TvdnVmkFQ",
        "outputId": "b309681e-9c45-4b0e-bb71-adb25db6239e"
      },
      "execution_count": null,
      "outputs": [
        {
          "output_type": "stream",
          "name": "stdout",
          "text": [
            "Drittkleinster Eigenwert:  0.6972243622680061\n",
            "Zugehöriger Eigenvektor:  [ 0.5869  0.3756  0.3889 -0.0668 -0.2781 -0.2648 -0.3088 -0.1108 -0.3221]\n"
          ]
        }
      ]
    }
  ]
}