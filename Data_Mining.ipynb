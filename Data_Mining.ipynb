{
  "nbformat": 4,
  "nbformat_minor": 0,
  "metadata": {
    "colab": {
      "provenance": [],
      "authorship_tag": "ABX9TyNso1zsr+HkWUqMeGhJx0kQ",
      "include_colab_link": true
    },
    "kernelspec": {
      "name": "python3",
      "display_name": "Python 3"
    },
    "language_info": {
      "name": "python"
    }
  },
  "cells": [
    {
      "cell_type": "markdown",
      "metadata": {
        "id": "view-in-github",
        "colab_type": "text"
      },
      "source": [
        "<a href=\"https://colab.research.google.com/github/NiklasNesseler/DataMining/blob/main/Data_Mining.ipynb\" target=\"_parent\"><img src=\"https://colab.research.google.com/assets/colab-badge.svg\" alt=\"Open In Colab\"/></a>"
      ]
    },
    {
      "cell_type": "markdown",
      "source": [
        "# Data Mining\n",
        "\n",
        "\n",
        "*   Prozess der Extraktion von Mustern, Zusammenhängen und nützlichen Informationen aus großen Datenmengen\n",
        "*   kombiniert Techniken aus verschiedenen Disziplinen\n",
        "*   Prozess, interessante Muster und Wissen aus großen Datenmengen zu entdecken\n",
        "*   Prozess, automatisch nützliche Informationen in großen Datenbeständen zu entdecken\n",
        "* Prozess, aufschlussreiche, interessante und neuartige Muster sowie beschreibende, verständliche und prädiktive Modelle aus großen Datenmengen zu extrahieren\n",
        "\n",
        "## Ziele von Data Mining\n",
        "\n",
        "* Vorhersagen treffen\n",
        "* Zusammenhänge aufdecken\n",
        "* Cluster identifizieren\n",
        "* Anomalien erkennen\n",
        "\n",
        "\n",
        "## Techniken im Data Mining\n",
        "\n",
        "1. Clustering\n",
        "2. Klassifikation\n",
        "3. Regressionsanalyse\n",
        "4. Assoziationsregeln\n",
        "5. Dimensionsreduktion\n",
        "\n",
        "\n",
        "\n"
      ],
      "metadata": {
        "id": "fdyxaTUrig2l"
      }
    },
    {
      "cell_type": "markdown",
      "source": [
        "# Graphdaten\n",
        "\n",
        "* spezielle Form von Daten, die Beziehungen zwischen Objekten erstellen\n",
        "* besteht aus Nodes und Kanten\n",
        "\n",
        "## Anwendungsbereiche von Graphdaten\n",
        "\n",
        "* Soziale Netzwerke\n",
        "* Verkehrsnetzwerke\n",
        "* Finanztransaktionen\n",
        "\n",
        "## Eigenschaften von Graphdaten\n",
        "\n",
        "* Es gibt gerichtete und ungerichtete Graphen\n",
        "* Es gibt gewichtete und ungewichtete Graphen\n",
        "* Es gibt Sparse und Dense Graphs\n",
        "\n",
        "## Wichtige Konzepte in der Graphanalyse\n",
        "\n",
        "* Zentralitätsmaße\n",
        "* Community Detection\n",
        "* Graph Cut\n",
        "* Graphenrepräsentation\n"
      ],
      "metadata": {
        "id": "AyGSmiU8kQiQ"
      }
    },
    {
      "cell_type": "markdown",
      "source": [
        "#Streams\n",
        "\n",
        "* kontinuierlich, potenziell unendlich große Mengen an Daten, die mit hoher Geschwindigkeit generiert werden\n",
        "* erfordert spezielle Techniken, da die gesamte Datenmenge nicht vollständig gespeichert werden kann\n",
        "\n",
        "\n",
        "## Eigenschaften von Data Streams\n",
        "\n",
        "1. Unendlicher Datenfluss\n",
        "2. Echtzeitverarbeitung\n",
        "3. Begrenzte Speicherkapazität\n",
        "4. Dynamische Datenveränderung\n",
        "\n",
        "## Beispiele für Data Streams\n",
        "\n",
        "* Sensordaten\n",
        "* Netzwerküberwachung\n",
        "* Soziale Netzwerke\n",
        "\n",
        "## Techniken zur Data Stream Verarbeitung\n",
        "\n",
        "* Stichprobenziehung\n",
        "* Sliding Windows\n",
        "* DGIM Algorithmus\n",
        "* Bloom Filter\n",
        "* Flajolet-Martin-Algorithmus\n",
        "* Exponentially Decaying Window"
      ],
      "metadata": {
        "id": "JlV6dfQgm-Ey"
      }
    },
    {
      "cell_type": "markdown",
      "source": [
        "# Transitivität\n",
        "\n",
        "* die Wahrscheinlichkeit, dass 2 Knoten, die mit einem dritten Knoten verbunden sind, auch direkt miteinander verbunden sind\n",
        "* wichtiger Aspekt in der Analyse sozialer Netzwerke und anderen Graphstrukturen\n",
        "\n",
        "## Warum ist das Wichtig?\n",
        "\n",
        "1. Soziale Netzwerke\n",
        "2. Betrugserkennung\n",
        "3. Empfehlungssysteme\n",
        "4. Biologische Netzwerke"
      ],
      "metadata": {
        "id": "ACAzDT0EpkW-"
      }
    },
    {
      "cell_type": "markdown",
      "source": [
        "# Clustering Coefficient\n",
        "* Ein Maß für die Transitivität\n",
        "* wird häufig in Sozialen Netzwerken und anderen Graphstrukturen verwendet\n",
        "\n",
        "## Anwendungsfälle\n",
        "* Soziale Netzwerke\n",
        "* Betrugserkennung\n",
        "* Informationsnetzwerke"
      ],
      "metadata": {
        "id": "Mupm2rOpqXm7"
      }
    },
    {
      "cell_type": "markdown",
      "source": [],
      "metadata": {
        "id": "xjOPnUYOmArX"
      }
    },
    {
      "cell_type": "markdown",
      "source": [
        "# Community Detection\n",
        "\n",
        "* Methode zur Identifikation von Gruppen von Knoten in einem Graphen\n",
        "\n",
        "## Methoden zur Community Detection\n",
        "1. Modularity Maximization\n",
        "2. Girvan-Newman-Algorithmus\n",
        "3. Spectral Clustering\n",
        "4. Louvain Methode\n",
        "\n",
        "* Hilft Netzwerkstrukturen zu verstehen\n"
      ],
      "metadata": {
        "id": "dFjqwaWFfIdS"
      }
    },
    {
      "cell_type": "markdown",
      "source": [
        "# Girvan Newman Algorithmus\n",
        "* Methode zur Erkennung von Gemeinschaften in Netzwerken\n",
        "* Basiert auf der Edge Betweenness Centrality\n",
        "* Gut für kleine bis mittelgroße Netzwerke geeignet\n",
        "* Hohe Rechenkosten für große Netzwerke\n",
        "\n",
        "## Ablauf des Algorithmus\n",
        "1. Berechnung der Edge-Betweenness Centrality für alle Kanten\n",
        "2. Entferne Kanten mit höchster EBC\n",
        "3. Wiederhole 1 und 2\n",
        "\n"
      ],
      "metadata": {
        "id": "jUcf-hkBfJqq"
      }
    },
    {
      "cell_type": "code",
      "source": [
        "import networkx as nx\n",
        "from networkx.algorithms.community import girvan_newman\n",
        "\n",
        "G = nx.karate_club_graph()\n",
        "communities = girvan_newman(G)\n",
        "\n",
        "first_partition = next(communities)\n",
        "print(\"Community 1: \", list(first_partition[0]))\n",
        "print(\"Community 1: \", list(first_partition[1]))"
      ],
      "metadata": {
        "colab": {
          "base_uri": "https://localhost:8080/"
        },
        "id": "_SuJxbBohQWv",
        "outputId": "b4474d6f-e494-4b15-d211-4d5831928add"
      },
      "execution_count": null,
      "outputs": [
        {
          "output_type": "stream",
          "name": "stdout",
          "text": [
            "Community 1:  [0, 1, 3, 4, 5, 6, 7, 10, 11, 12, 13, 16, 17, 19, 21]\n",
            "Community 1:  [2, 8, 9, 14, 15, 18, 20, 22, 23, 24, 25, 26, 27, 28, 29, 30, 31, 32, 33]\n"
          ]
        }
      ]
    },
    {
      "cell_type": "markdown",
      "source": [
        "# Edge Betweenness\n",
        "\n",
        "* Zentralitätsmaß das beschreibt, wie oft eine Kante auf den kürzesten Pfaden zwischen allen Knotenpaaren eines Netzwerks liegt"
      ],
      "metadata": {
        "id": "DrIZ027fhyPe"
      }
    },
    {
      "cell_type": "code",
      "source": [
        "G = nx.Graph()\n",
        "G.add_edges_from([(\"A\", \"B\"), (\"B\", \"C\"), (\"C\", \"F\"), (\"F\", \"E\"), (\"E\", \"D\"), (\"D\", \"A\"), (\"B\", \"E\")])\n",
        "edge_betweenness = nx.edge_betweenness_centrality(G)\n",
        "for edge, betweenness in edge_betweenness.items():\n",
        "  print(f\"Edge: {edge}, Betweenness: {betweenness}\")"
      ],
      "metadata": {
        "colab": {
          "base_uri": "https://localhost:8080/"
        },
        "id": "FNvIjgtyinV7",
        "outputId": "fd7206be-3c5c-4522-c26e-b6baf8bff977"
      },
      "execution_count": null,
      "outputs": [
        {
          "output_type": "stream",
          "name": "stdout",
          "text": [
            "Edge: ('A', 'B'), Betweenness: 0.2666666666666666\n",
            "Edge: ('A', 'D'), Betweenness: 0.17777777777777776\n",
            "Edge: ('B', 'C'), Betweenness: 0.26666666666666666\n",
            "Edge: ('B', 'E'), Betweenness: 0.2444444444444444\n",
            "Edge: ('C', 'F'), Betweenness: 0.17777777777777776\n",
            "Edge: ('F', 'E'), Betweenness: 0.2666666666666666\n",
            "Edge: ('E', 'D'), Betweenness: 0.26666666666666666\n"
          ]
        }
      ]
    },
    {
      "cell_type": "markdown",
      "source": [
        "#Modularität\n",
        "\n",
        "* Maß, wie gut ein Graph in Communities aufgeteilt ist\n"
      ],
      "metadata": {
        "id": "dS8jQlaFjh2o"
      }
    },
    {
      "cell_type": "code",
      "source": [
        "from networkx.algorithms.community import modularity, girvan_newman\n",
        "\n",
        "G = nx.Graph()\n",
        "G.add_edges_from([(\"A\", \"B\"), (\"B\", \"F\"), (\"F\", \"E\"), (\"E\", \"A\"), (\"C\", \"D\"), (\"D\", \"H\"), (\"H\", \"G\"), (\"G\", \"C\")])\n",
        "\n",
        "communities = next(girvan_newman(G))\n",
        "community_list = [list(c) for c in communities]\n",
        "modularity_value = modularity(G, community_list)\n",
        "print(\"Gefundene Communities: \", community_list)\n",
        "print(f\"Modularität: , {modularity_value:.4f}\")"
      ],
      "metadata": {
        "colab": {
          "base_uri": "https://localhost:8080/"
        },
        "id": "yX_GH4Bgj5o8",
        "outputId": "1afa7d07-8bd7-40af-a0f5-d690840bebc1"
      },
      "execution_count": null,
      "outputs": [
        {
          "output_type": "stream",
          "name": "stdout",
          "text": [
            "Gefundene Communities:  [['A', 'E'], ['B', 'F'], ['C', 'D', 'H', 'G']]\n",
            "Modularität: , 0.3750\n"
          ]
        }
      ]
    },
    {
      "cell_type": "markdown",
      "source": [
        "#Spectral Graph Partitioning\n",
        "* Methode zur Community Detection in Graphen\n",
        "* Nutzt die Eigenwerte und Eigenvektoren der Laplace Matrix um den Graphen in Cluster zu unterteilen\n",
        "* Effizient für große Netzwerke\n",
        "* Kein Entfernen von Kanten nötig\n",
        "* Man verwandelt den Graphen in eine Matrix, berechnet Eigenwerte und Eigenvektoren und nutzt den zweitkleinsten Eigenvektor zur Aufteilung\n"
      ],
      "metadata": {
        "id": "X6wUmbV3kyJR"
      }
    },
    {
      "cell_type": "code",
      "source": [
        "import numpy as np\n",
        "import scipy.linalg as la\n",
        "import matplotlib.pyplot as plt\n",
        "\n",
        "G = nx.Graph()\n",
        "G.add_edges_from([(\"A\", \"B\"), (\"B\", \"F\"), (\"F\", \"E\"), (\"E\", \"A\"), (\"C\", \"D\"), (\"D\", \"H\"), (\"H\", \"G\"), (\"G\", \"C\")])\n",
        "\n",
        "L = nx.laplacian_matrix(G).toarray()\n",
        "\n",
        "eigenvalues, eigenvectors = la.eigh(L)\n",
        "\n",
        "fiedler_vector = eigenvectors[:, 1]\n",
        "\n",
        "cluster1 = [list(G.nodes())[i] for i in range(len(fiedler_vector)) if fiedler_vector[i] > 0]\n",
        "cluster2 = [list(G.nodes())[i] for i in range(len(fiedler_vector)) if fiedler_vector[i] <= 0]\n",
        "\n",
        "print(\"Cluster 1:\", cluster1)\n",
        "print(\"Cluster 2:\", cluster2)\n",
        "\n",
        "pos = nx.spring_layout(G)\n",
        "nx.draw(G, pos, with_labels=True, node_color=[\"red\" if node in cluster1 else \"blue\" for node in G.nodes()])\n",
        "\n",
        "plt.s"
      ],
      "metadata": {
        "id": "lObP3bYxmffY"
      },
      "execution_count": null,
      "outputs": []
    }
  ]
}